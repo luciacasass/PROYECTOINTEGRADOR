{
  "cells": [
    {
      "cell_type": "markdown",
      "source": [
        "# Simulación de embarque aéreo: Análisis y Optimización mediante estrategias de colas  \n",
        "\n",
        "Grupo 2\n",
        "\n",
        "Lucía Casas, Carmen Gallardo, Julia Hernández, Hugo Santos\n",
        "\n"
      ],
      "metadata": {
        "id": "OpsvL-2LfqPG"
      }
    },
    {
      "cell_type": "markdown",
      "source": [
        "## Funciones empleadas"
      ],
      "metadata": {
        "id": "NxVbvvLDflZv"
      }
    },
    {
      "cell_type": "code",
      "execution_count": null,
      "metadata": {
        "id": "BcYWJ-btYny1"
      },
      "outputs": [],
      "source": [
        "class Pasajero:\n",
        "    def __init__(self, entrada, asiento, velocidad, equipaje):\n",
        "        self.entrada = entrada\n",
        "        self.asiento = asiento\n",
        "        self.velocidad = velocidad\n",
        "        # Convertir el valor de equipaje en una cadena de caracteres\n",
        "        if equipaje == 0:\n",
        "            self.equipaje = 'No lleva'\n",
        "        elif equipaje == 1:\n",
        "            self.equipaje = 'Lleva mochila'\n",
        "        elif equipaje == 2:\n",
        "            self.equipaje = 'Lleva maleta de mano'\n",
        "        else:\n",
        "            self.equipaje = 'Valor de equipaje no válido'\n",
        "\n",
        "    def mostrar_info(self):\n",
        "        print(f\"Orden de entrada: {self.entrada}\")\n",
        "        print(f\"Asiento: {self.asiento}\")\n",
        "        print(f\"Velocidad: {round(self.velocidad, 3)}\")\n",
        "        print(f\"¿Equipaje?: {self.equipaje}\")\n"
      ]
    },
    {
      "cell_type": "code",
      "execution_count": null,
      "metadata": {
        "id": "z-DFYgeXY-kJ"
      },
      "outputs": [],
      "source": [
        "def obtenerAsiento(asientosAsignados):\n",
        "    # Encontrar todos los asientos no asignados\n",
        "    filas, columnas = np.where(asientosAsignados == 0)\n",
        "\n",
        "    # Elegir aleatoriamente un asiento no asignado\n",
        "    if len(filas) > 0:  # Asegurar que hay asientos disponibles\n",
        "        indice = np.random.randint(len(filas))\n",
        "        fila = filas[indice]\n",
        "        columna = columnas[indice]\n",
        "\n",
        "        return (fila, columna)\n",
        "    else:\n",
        "        # Manejar el caso en que no hay asientos disponibles\n",
        "        return None\n"
      ]
    },
    {
      "cell_type": "code",
      "source": [
        "def imprimir_avion(avion):\n",
        "    # Definir colores y estilos\n",
        "    color_verde = '\\033[92m'  # Color verde para asientos disponibles\n",
        "    color_rojo = '\\033[91m'   # Color rojo para asientos ocupados\n",
        "    color_blanco = '\\033[0m'  # Color blanco para pasillos y otros\n",
        "\n",
        "    # Definir símbolos para representar asientos y pasillo\n",
        "    simbolo_asiento = '●'     # Símbolo para representar asientos\n",
        "    simbolo_pasillo = ' '      # Símbolo para representar pasillos\n",
        "\n",
        "    # Imprimir bordes superiores\n",
        "    print(f'{color_blanco}┌{\"─\" * (len(avion[0]) + 2)}┐')\n",
        "\n",
        "    for fila in avion:\n",
        "        # Imprimir borde lateral izquierdo\n",
        "        print(f'{color_blanco}│ ', end='')\n",
        "\n",
        "        for asiento in fila:\n",
        "            if asiento == '0':\n",
        "                # Asiento disponible (verde)\n",
        "                print(f'{color_verde}{simbolo_asiento}{color_blanco}', end='')\n",
        "            elif asiento == 'P':\n",
        "                # Asiento ocupado (rojo)\n",
        "                print(f'{color_rojo}{simbolo_asiento}{color_blanco}', end='')\n",
        "            else:\n",
        "                # Pasillo (blanco)\n",
        "                print(f'{color_blanco}{simbolo_pasillo}', end='')\n",
        "\n",
        "        # Imprimir borde lateral derecho\n",
        "        print(f' {color_blanco}│')\n",
        "\n",
        "    # Imprimir borde inferior\n",
        "    print(f'{color_blanco}└{\"─\" * (len(avion[0]) + 2)}┘{color_blanco}')"
      ],
      "metadata": {
        "id": "2u7vNeyDgfXp"
      },
      "execution_count": null,
      "outputs": []
    },
    {
      "cell_type": "code",
      "source": [
        "def llenar_avion():\n",
        "    # Aquí va todo el código para llenar el avión\n",
        "\n",
        "      # BLOQUE 2 : CREAR  E IMPIRMIR AVIÓN\n",
        "      # Extraer los tiempos de llegada y ordenar los pasajeros por este atributo\n",
        "      entradas = [pasajero.entrada for pasajero in pasajeros]\n",
        "      indices_ordenados = sorted(range(len(entradas)), key=lambda i: entradas[i])\n",
        "\n",
        "      # Reordenar la lista de pasajeros según los tiempos de llegada\n",
        "      pasajeros_ordenados = [pasajeros[i] for i in indices_ordenados]\n",
        "\n",
        "      # Inicializar la matriz del avión con '0' (para representar los asientos) y con '|' para el pasillo\n",
        "      avion = [['0' for _ in range(numColumnas * asientosPorColumna + 1)] for _ in range(numFilas + 1)]\n",
        "      for i in range(numFilas + 1):\n",
        "          avion[i][asientosPorColumna] = '|'\n",
        "\n",
        "      # La primera fila se llena con espacios para simular la ausencia de asientos\n",
        "      avion[0] = [' ' for _ in range(numColumnas * asientosPorColumna + 1)]\n",
        "\n",
        "\n",
        "\n",
        "      # BLOQUE 3: LLENAR EL AVIÓN\n",
        "      # Inicialización del reloj y variables\n",
        "      tiempoActual = 0\n",
        "      totalPasajeros = 0\n",
        "      tiempoLlegadaSiguientePasajero = 0\n",
        "\n",
        "      # Fondo de cada casilla (0.81 metros) y ancho del asiento (0.45 metros)\n",
        "      casilla = 0.81\n",
        "      anchoAsiento = 0.45\n",
        "\n",
        "      # Contador para los pasajeros\n",
        "      cont = 1\n",
        "\n",
        "      # Asumiendo que la lista pasajeros_ordenados ya contiene instancias de Pasajero ordenadas por su tiempo de llegada\n",
        "      pasajeros_ordenados = sorted(pasajeros, key=lambda x: x.entrada)\n",
        "\n",
        "      # Inicializar la posición de los pasajeros con una lista de tuplas (fila, columna)\n",
        "      posicionPasajero = [np.array([None, None]) for _ in range(numPasajeros)]\n",
        "      tiempoPasajero = [np.array(0) for _ in range(numPasajeros)]\n",
        "      wait = [np.array(False) for _ in range(numPasajeros)]\n",
        "\n",
        "      # Inicializar la lista de eventos\n",
        "      eventos = []\n",
        "\n",
        "      # Agregar el primer evento de llegada\n",
        "      if pasajeros_ordenados:\n",
        "          primer_pasajero = pasajeros_ordenados[0]\n",
        "          tiempoMov = casilla / primer_pasajero.velocidad\n",
        "          eventos.append({'tipo': 'entrada', 'tiempo': tiempoMov, 'pasajero': 0})\n",
        "\n",
        "      # Iniciar la simulación\n",
        "      while totalPasajeros < numPasajeros:\n",
        "          # Obtener el siguiente evento\n",
        "          tiempoEvento, indiceEvento = min((evento['tiempo'], idx) for idx, evento in enumerate(eventos))\n",
        "          eventoActual = eventos[indiceEvento]\n",
        "\n",
        "          # Avanzar el tiempo simulado\n",
        "          tiempoActual = tiempoEvento\n",
        "\n",
        "          eliminarEvento = True\n",
        "\n",
        "          if eventoActual['tipo'] == 'entrada':\n",
        "            # Llegada de un nuevo pasajero\n",
        "              pasajero_idx = eventoActual['pasajero']\n",
        "              pasajeroActual = pasajeros_ordenados[pasajero_idx]\n",
        "\n",
        "              tiempoMov = casilla / pasajeroActual.velocidad\n",
        "              # Se marca el momento en el tiempo en el que el pasajero entra en la simulación\n",
        "              tiempoPasajero[pasajero_idx] = tiempoActual\n",
        "              # Sólo puede entrar un pasajero si hay sitio\n",
        "              ocupado = False # Inicializamos la variable para indicar si la casilla está ocupada\n",
        "\n",
        "              for j in range(pasajero_idx - 1, -1, -1):\n",
        "                  if posicionPasajero[j] and posicionPasajero[j][0] == 0 and posicionPasajero[j][1] == asientosPorColumna:\n",
        "                      ocupado = True # La casilla está ocupada por un pasajero anterior\n",
        "                      break\n",
        "\n",
        "              if not ocupado:\n",
        "                  # Definir la posición inicial del pasajero al frente del pasillo\n",
        "                  posicionPasajero[pasajero_idx] = [0, asientosPorColumna]\n",
        "\n",
        "                  # Agregar evento de movimiento para el pasajero actual\n",
        "                  # Movimiento de un pasajero hacia su asiento\n",
        "                  # Cada fila, teniendo en cuenta asiento y espacio para las piernas mide\n",
        "                  # alrededor de 1.25 metros, luego si el pasajero tiene una velocidad de\n",
        "                  # x m/s cada cambio de fila implicará 1.25 / x metros\n",
        "                  eventos.append({'tipo': 'movimiento', 'tiempo': tiempoActual + tiempoMov, 'pasajero': pasajero_idx})\n",
        "\n",
        "                  # Generar evento de llegada del siguiente pasajero si quedan\n",
        "                  if pasajero_idx + 1 < len(pasajeros_ordenados):\n",
        "                      siguiente_pasajero = pasajeros_ordenados[pasajero_idx + 1]\n",
        "                      tiempoMov = casilla / siguiente_pasajero.velocidad\n",
        "                      eventos.append({'tipo': 'entrada', 'tiempo': tiempoMov, 'pasajero': pasajero_idx + 1})\n",
        "              else:\n",
        "                  # no se añade ni elimina ningún evento y añadimos el tiempo de\n",
        "                  # espera/ si voy a entrar y no me dejan entrar entonces estoy\n",
        "                  # esperando fuera luego a partir del desplazamiento del de\n",
        "                  # delante, tardaré x de acuerdo a mi velocidad en entrar al\n",
        "                  # avión\n",
        "                  eventos[indiceEvento]['tiempo'] += tiempoMov\n",
        "                  eliminarEvento = False\n",
        "\n",
        "          elif eventoActual['tipo'] == 'movimiento':\n",
        "              # Movimiento de un pasajero hacia su asiento\n",
        "              pasajero_idx = eventoActual['pasajero']\n",
        "              pasajeroActual = pasajeros_ordenados[pasajero_idx]\n",
        "              mover = True\n",
        "\n",
        "              # Calcular la fila y columna del asiento asignado al pasajero\n",
        "              asientoAsignado = pasajeroActual.asiento\n",
        "              filaAsignada = asientoAsignado[0] + 1 # porque la primera es la entrada al avión\n",
        "              if asientoAsignado[1] > asientosPorColumna - 1:\n",
        "                columnaAsignada = asientoAsignado[1] + 1 # si se encuentra al otro lado del pasillo\n",
        "              else:\n",
        "                columnaAsignada = asientoAsignado[1]\n",
        "\n",
        "              # Mover el pasajero hacia su asiento\n",
        "              if posicionPasajero[pasajero_idx][0] < filaAsignada:\n",
        "                # Mover hacia adelante si aún no hemos llegado a la fila del asiento\n",
        "                tiempoMov = casilla / pasajeroActual.velocidad\n",
        "                # Antes comprobamos si se puede avanzar; si\n",
        "                # la casilla delantera está ocupada, no se puede mover\n",
        "\n",
        "                # Sabemos que los pasajeros delanteros han entrado antes, su\n",
        "                # índice será menor que el del presente\n",
        "                # Buscamos el primero con el que se vaya a encontrar\n",
        "                j = pasajero_idx - 1\n",
        "                while j >= 0:\n",
        "                  # La distancia con el pasajero de delante se calcula en función de sus\n",
        "                  # posiciones respecto a la fila en la que se encuentran\n",
        "                  distancia = abs(posicionPasajero[j][1] - posicionPasajero[pasajero_idx][1])\n",
        "                  # si están en casillas contiguas y el delantero está en el pasillo,\n",
        "                  # no se puede mover porque ya está ocupada\n",
        "                  if posicionPasajero[j][1] == asientosPorColumna and distancia <= 1:\n",
        "                    # no se actualiza la posición del pasajero\n",
        "                    mover = False\n",
        "\n",
        "                  if not mover:\n",
        "                    j = -1\n",
        "                  else:\n",
        "                    j = j - 1\n",
        "\n",
        "                # Aquí lo que estamos suponiendo es que los pasajeros no modifican su\n",
        "                # velocidad en ningún momento, simplemente esperan a que la casilla\n",
        "                # delantera esté vacía para despalzarse a su velocidad propia\n",
        "\n",
        "                # si no se ha encontrado ningún obstáculo, actualizamos\n",
        "                # posición\n",
        "                if mover:\n",
        "                  posicionPasajero[pasajero_idx][0] += 1\n",
        "                  # si acaba de llegar a su fila, comprobamos si tiene que\n",
        "                  # guardar maleta\n",
        "                  if posicionPasajero[pasajero_idx][0] == filaAsignada and pasajeroActual.equipaje == 'Lleva maleta de mano':\n",
        "                    # No se moverá hasta que haya guardado la maleta\n",
        "                    # Suponemos distribución de weibull para guardar la maleta\n",
        "                    tiempoMaleta = np.random.weibull(1.7) * 16\n",
        "                    tiempoMov += tiempoMaleta\n",
        "\n",
        "              elif posicionPasajero[pasajero_idx][1] != columnaAsignada:\n",
        "                # Estamos en la fila del asiento, avanzar hacia la columna del asiento\n",
        "                # Antes tenemos que comprobar que no hay nadie en el medio / el que más tarda es el de más adentro\n",
        "                # de momento le voy a añadir cuatro segundos\n",
        "                # La velocidad se ve reducida a la mitad\n",
        "                tiempoMov = anchoAsiento / (pasajeroActual.velocidad * 0.5)\n",
        "                if posicionPasajero[pasajero_idx][1] < columnaAsignada:\n",
        "                  # si no ha esperado antes\n",
        "                  if posicionPasajero[pasajero_idx][1] == 3 and not wait[pasajero_idx]:\n",
        "                    posibles = list(range(4, columnaAsignada))\n",
        "                    if any(avion[filaAsignada][pos] == 'P' for pos in posibles):\n",
        "                      for k in reversed(posibles):\n",
        "                        if avion[filaAsignada][k] == 'P':\n",
        "                          tiempoMov += 4\n",
        "                          wait[pasajero_idx] = True\n",
        "                          if k == 5:\n",
        "                            tiempoMov += 4\n",
        "                          break\n",
        "                    else:\n",
        "                      posicionPasajero[pasajero_idx][1] += 1\n",
        "                  elif wait[pasajero_idx]:\n",
        "                    wait[pasajero_idx] = False\n",
        "                    posicionPasajero[pasajero_idx][1] += 2\n",
        "                  else:\n",
        "                    posicionPasajero[pasajero_idx][1] += 1\n",
        "                else:\n",
        "                  if posicionPasajero[pasajero_idx][1] == 3 and not wait[pasajero_idx]:\n",
        "                    posibles = list(range(columnaAsignada+1, 3))\n",
        "                    if any(avion[filaAsignada][pos] == 'P' for pos in posibles):\n",
        "                      for k in posibles:\n",
        "                        if avion[filaAsignada][k] == 'P':\n",
        "                          tiempoMov += 4\n",
        "                          wait[pasajero_idx] = True\n",
        "                          if k == 1:\n",
        "                            tiempoMov += 4\n",
        "                          break\n",
        "                    else:\n",
        "                      posicionPasajero[pasajero_idx][1] -= 1\n",
        "                  elif wait[pasajero_idx]:\n",
        "                    wait[pasajero_idx] = False\n",
        "                    posicionPasajero[pasajero_idx][1] -= 2\n",
        "                  else:\n",
        "                    posicionPasajero[pasajero_idx][1] -= 1\n",
        "\n",
        "              # Agregar evento de movimiento para el pasajero actual si aún no ha llegado a su asiento\n",
        "              if posicionPasajero[pasajero_idx] != [filaAsignada, columnaAsignada]:\n",
        "                eventos.append({'tipo': 'movimiento', 'tiempo': tiempoActual + tiempoMov, 'pasajero': pasajero_idx})\n",
        "              else:\n",
        "                # El pasajero ha llegado a su asiento asignado\n",
        "                avion[posicionPasajero[pasajero_idx][0]][posicionPasajero[pasajero_idx][1]] = 'P'\n",
        "                totalPasajeros += 1\n",
        "                # Calculamos el tiempo en el que el pasajero ha estado activo en la simulación\n",
        "                # Se le ha añadido el tiempoMov porque todavía no se había añadido al reloj\n",
        "                # (se añade al comienzo del siguiente bucle en la elección del evento)\n",
        "                tiempoPasajero[pasajero_idx] = tiempoActual + tiempoMov - tiempoPasajero[pasajero_idx]\n",
        "\n",
        "                if totalPasajeros == numPasajeros:\n",
        "                  tiempoActual += tiempoMov\n",
        "\n",
        "\n",
        "          # Eliminar el evento actual de la lista de eventos si es necesario\n",
        "          if eliminarEvento:\n",
        "            del eventos[indiceEvento]\n",
        "\n",
        "      tiempo_embarque = [math.trunc(tiempoActual/60), math.trunc(tiempoActual - 60 * math.trunc(tiempoActual/60))]\n",
        "      return tiempo_embarque"
      ],
      "metadata": {
        "id": "GWrTbt8tOXLv"
      },
      "execution_count": null,
      "outputs": []
    },
    {
      "cell_type": "markdown",
      "metadata": {
        "id": "FviAZCMUXhzF"
      },
      "source": [
        "***Importación de librerías***\n"
      ]
    },
    {
      "cell_type": "code",
      "execution_count": null,
      "metadata": {
        "id": "p38K2x5NXksV"
      },
      "outputs": [],
      "source": [
        "import numpy as np\n",
        "import math\n",
        "import time\n",
        "\n",
        "import matplotlib.pyplot as plt\n",
        "from IPython.display import clear_output\n",
        "\n",
        "np.random.seed(123)  # semilla para las distribuciones aleatorias"
      ]
    },
    {
      "cell_type": "code",
      "source": [
        "# Inicialización del vector con las medias de las diferentes estrategias\n",
        "tiempos = []"
      ],
      "metadata": {
        "id": "5fyEoZFa_Zi3"
      },
      "execution_count": null,
      "outputs": []
    },
    {
      "cell_type": "markdown",
      "metadata": {
        "id": "AA-jMoPkfu18"
      },
      "source": [
        "Se definen las características del avión sobre el que se realizará el estudio.\n"
      ]
    },
    {
      "cell_type": "code",
      "execution_count": null,
      "metadata": {
        "id": "WONrJPBIXpVz"
      },
      "outputs": [],
      "source": [
        "# Definir las dimensiones del avión\n",
        "numFilas = 28  # Número de filas en el avión\n",
        "numColumnas = 2  # Número de columnas en el avión\n",
        "asientosPorColumna = 3  # Número de asientos por columna\n",
        "totalAsientos = numFilas * numColumnas * asientosPorColumna  # Cálculo del total de asientos"
      ]
    },
    {
      "cell_type": "code",
      "source": [
        "# Fondo de cada casilla (0.81 metros) y ancho del asiento (0.45 metros)\n",
        "casilla = 0.81\n",
        "anchoAsiento = 0.45"
      ],
      "metadata": {
        "id": "0T_akcUfiTL5"
      },
      "execution_count": null,
      "outputs": []
    },
    {
      "cell_type": "markdown",
      "metadata": {
        "id": "FuqcQUrDfygG"
      },
      "source": [
        "De acuerdo a la capacidad del avión, se calculan los pasajeros que vayan a embarcar en función de si se ha ocupado por completo la capacidad del avión."
      ]
    },
    {
      "cell_type": "code",
      "execution_count": null,
      "metadata": {
        "id": "Eu95TAkAX3kg"
      },
      "outputs": [],
      "source": [
        "# Número de pasajeros a generar\n",
        "rate = 1  # Tasa de ocupación\n",
        "numPasajeros = round(totalAsientos * rate)  # Cálculo del número de pasajeros"
      ]
    },
    {
      "cell_type": "markdown",
      "metadata": {
        "id": "WHXyRRDzgDUU"
      },
      "source": [
        "**EJEMPLO INICIALIZACIÓN PASAJEROS**\n",
        "\n",
        "A continuación, se generarán los pasajeros con sus respectivas características asociadas que determinarán su comportamiento en el interior de la nave."
      ]
    },
    {
      "cell_type": "code",
      "execution_count": null,
      "metadata": {
        "colab": {
          "base_uri": "https://localhost:8080/"
        },
        "id": "zetguSPLZWk4",
        "outputId": "c4641eb6-e66a-4d6c-f3ae-3bfc72d34239"
      },
      "outputs": [
        {
          "output_type": "stream",
          "name": "stdout",
          "text": [
            "Pasajero 1\n",
            "Orden de entrada: 64\n",
            "Asiento: (16, 1)\n",
            "Velocidad: 1.095\n",
            "¿Equipaje?: Lleva maleta de mano\n",
            "---------------------------\n",
            "Pasajero 2\n",
            "Orden de entrada: 87\n",
            "Asiento: (12, 1)\n",
            "Velocidad: 1.107\n",
            "¿Equipaje?: Lleva mochila\n",
            "---------------------------\n",
            "Pasajero 3\n",
            "Orden de entrada: 146\n",
            "Asiento: (10, 2)\n",
            "Velocidad: 1.185\n",
            "¿Equipaje?: No lleva\n",
            "---------------------------\n",
            "Pasajero 4\n",
            "Orden de entrada: 54\n",
            "Asiento: (23, 3)\n",
            "Velocidad: 0.779\n",
            "¿Equipaje?: Lleva mochila\n",
            "---------------------------\n",
            "Pasajero 5\n",
            "Orden de entrada: 61\n",
            "Asiento: (20, 5)\n",
            "Velocidad: 1.167\n",
            "¿Equipaje?: Lleva mochila\n",
            "---------------------------\n",
            "Pasajero 6\n",
            "Orden de entrada: 42\n",
            "Asiento: (18, 5)\n",
            "Velocidad: 0.874\n",
            "¿Equipaje?: Lleva maleta de mano\n",
            "---------------------------\n",
            "Pasajero 7\n",
            "Orden de entrada: 86\n",
            "Asiento: (14, 3)\n",
            "Velocidad: 1.053\n",
            "¿Equipaje?: No lleva\n",
            "---------------------------\n",
            "Pasajero 8\n",
            "Orden de entrada: 149\n",
            "Asiento: (23, 0)\n",
            "Velocidad: 0.818\n",
            "¿Equipaje?: Lleva mochila\n",
            "---------------------------\n",
            "Pasajero 9\n",
            "Orden de entrada: 138\n",
            "Asiento: (19, 3)\n",
            "Velocidad: 1.124\n",
            "¿Equipaje?: Lleva mochila\n",
            "---------------------------\n",
            "Pasajero 10\n",
            "Orden de entrada: 115\n",
            "Asiento: (11, 4)\n",
            "Velocidad: 1.25\n",
            "¿Equipaje?: No lleva\n",
            "---------------------------\n"
          ]
        }
      ],
      "source": [
        "# Inicializar la matriz para rastrear los asientos asignados\n",
        "asientosAsignados = np.zeros((numFilas, numColumnas * asientosPorColumna))\n",
        "\n",
        "# Lista para almacenar los objetos Pasajero\n",
        "pasajeros = []\n",
        "# Generar un orden aleatorio de las posiciones\n",
        "posiciones_random = np.random.choice(np.arange(1, numPasajeros + 1), numPasajeros, replace=False)\n",
        "\n",
        "# Iterar sobre los pasajeros\n",
        "for i, num in enumerate(posiciones_random, start=1):\n",
        "    # Generar tiempo de llegada\n",
        "    entrada = num\n",
        "    # Obtener un asiento no asignado\n",
        "    asiento = obtenerAsiento(asientosAsignados)\n",
        "    if asiento is not None:\n",
        "        fila, columna = asiento\n",
        "\n",
        "        velocidad = np.random.normal(1.1, 0.2)\n",
        "        equipaje = np.random.randint(0, 3)\n",
        "\n",
        "        # Marcar el asiento como asignado\n",
        "        asientosAsignados[fila, columna] = 1\n",
        "\n",
        "        # Crear el objeto Pasajero y almacenarlo en la lista\n",
        "        pasajeros.append(Pasajero(entrada, asiento, velocidad, equipaje))\n",
        "\n",
        "# Mostrar la información de los primeros pasajeros generados\n",
        "for i in range(min(10, len(pasajeros))):\n",
        "    print(f\"Pasajero {i + 1}\")\n",
        "    pasajeros[i].mostrar_info()\n",
        "    print('---------------------------')\n"
      ]
    },
    {
      "cell_type": "markdown",
      "metadata": {
        "id": "ZP_UOqYVgKez"
      },
      "source": [
        "**Trazado del seating plan**\n",
        "\n",
        "Además, se trazará una matriz que representa el layout o distribución de la cabina del avión. Los asientos vacíos se representarán con ceros, mientras que los ocupados se irán rellenando con la letra **P**.\n",
        "\n",
        "El pasillo se encuentra en el centro y sirve de vía para el desplazamiento de los pasajeros a su fila de destino."
      ]
    },
    {
      "cell_type": "code",
      "execution_count": null,
      "metadata": {
        "colab": {
          "base_uri": "https://localhost:8080/"
        },
        "id": "u6_UvOPyZuAB",
        "outputId": "f3b5b2e2-df73-489b-f0b4-e13a1215a6e1"
      },
      "outputs": [
        {
          "output_type": "stream",
          "name": "stdout",
          "text": [
            "\u001b[0m┌─────────┐\n",
            "\u001b[0m│ \u001b[0m \u001b[0m \u001b[0m \u001b[0m \u001b[0m \u001b[0m \u001b[0m  \u001b[0m│\n",
            "\u001b[0m│ \u001b[92m●\u001b[0m\u001b[92m●\u001b[0m\u001b[92m●\u001b[0m\u001b[0m \u001b[92m●\u001b[0m\u001b[92m●\u001b[0m\u001b[92m●\u001b[0m \u001b[0m│\n",
            "\u001b[0m│ \u001b[92m●\u001b[0m\u001b[92m●\u001b[0m\u001b[92m●\u001b[0m\u001b[0m \u001b[92m●\u001b[0m\u001b[92m●\u001b[0m\u001b[92m●\u001b[0m \u001b[0m│\n",
            "\u001b[0m│ \u001b[92m●\u001b[0m\u001b[92m●\u001b[0m\u001b[92m●\u001b[0m\u001b[0m \u001b[92m●\u001b[0m\u001b[92m●\u001b[0m\u001b[92m●\u001b[0m \u001b[0m│\n",
            "\u001b[0m│ \u001b[92m●\u001b[0m\u001b[92m●\u001b[0m\u001b[92m●\u001b[0m\u001b[0m \u001b[92m●\u001b[0m\u001b[92m●\u001b[0m\u001b[92m●\u001b[0m \u001b[0m│\n",
            "\u001b[0m│ \u001b[92m●\u001b[0m\u001b[92m●\u001b[0m\u001b[92m●\u001b[0m\u001b[0m \u001b[92m●\u001b[0m\u001b[92m●\u001b[0m\u001b[92m●\u001b[0m \u001b[0m│\n",
            "\u001b[0m│ \u001b[92m●\u001b[0m\u001b[92m●\u001b[0m\u001b[92m●\u001b[0m\u001b[0m \u001b[92m●\u001b[0m\u001b[92m●\u001b[0m\u001b[92m●\u001b[0m \u001b[0m│\n",
            "\u001b[0m│ \u001b[92m●\u001b[0m\u001b[92m●\u001b[0m\u001b[92m●\u001b[0m\u001b[0m \u001b[92m●\u001b[0m\u001b[92m●\u001b[0m\u001b[92m●\u001b[0m \u001b[0m│\n",
            "\u001b[0m│ \u001b[92m●\u001b[0m\u001b[92m●\u001b[0m\u001b[92m●\u001b[0m\u001b[0m \u001b[92m●\u001b[0m\u001b[92m●\u001b[0m\u001b[92m●\u001b[0m \u001b[0m│\n",
            "\u001b[0m│ \u001b[92m●\u001b[0m\u001b[92m●\u001b[0m\u001b[92m●\u001b[0m\u001b[0m \u001b[92m●\u001b[0m\u001b[92m●\u001b[0m\u001b[92m●\u001b[0m \u001b[0m│\n",
            "\u001b[0m│ \u001b[92m●\u001b[0m\u001b[92m●\u001b[0m\u001b[92m●\u001b[0m\u001b[0m \u001b[92m●\u001b[0m\u001b[92m●\u001b[0m\u001b[92m●\u001b[0m \u001b[0m│\n",
            "\u001b[0m│ \u001b[92m●\u001b[0m\u001b[92m●\u001b[0m\u001b[92m●\u001b[0m\u001b[0m \u001b[92m●\u001b[0m\u001b[92m●\u001b[0m\u001b[92m●\u001b[0m \u001b[0m│\n",
            "\u001b[0m│ \u001b[92m●\u001b[0m\u001b[92m●\u001b[0m\u001b[92m●\u001b[0m\u001b[0m \u001b[92m●\u001b[0m\u001b[92m●\u001b[0m\u001b[92m●\u001b[0m \u001b[0m│\n",
            "\u001b[0m│ \u001b[92m●\u001b[0m\u001b[92m●\u001b[0m\u001b[92m●\u001b[0m\u001b[0m \u001b[92m●\u001b[0m\u001b[92m●\u001b[0m\u001b[92m●\u001b[0m \u001b[0m│\n",
            "\u001b[0m│ \u001b[92m●\u001b[0m\u001b[92m●\u001b[0m\u001b[92m●\u001b[0m\u001b[0m \u001b[92m●\u001b[0m\u001b[92m●\u001b[0m\u001b[92m●\u001b[0m \u001b[0m│\n",
            "\u001b[0m│ \u001b[92m●\u001b[0m\u001b[92m●\u001b[0m\u001b[92m●\u001b[0m\u001b[0m \u001b[92m●\u001b[0m\u001b[92m●\u001b[0m\u001b[92m●\u001b[0m \u001b[0m│\n",
            "\u001b[0m│ \u001b[92m●\u001b[0m\u001b[92m●\u001b[0m\u001b[92m●\u001b[0m\u001b[0m \u001b[92m●\u001b[0m\u001b[92m●\u001b[0m\u001b[92m●\u001b[0m \u001b[0m│\n",
            "\u001b[0m│ \u001b[92m●\u001b[0m\u001b[92m●\u001b[0m\u001b[92m●\u001b[0m\u001b[0m \u001b[92m●\u001b[0m\u001b[92m●\u001b[0m\u001b[92m●\u001b[0m \u001b[0m│\n",
            "\u001b[0m│ \u001b[92m●\u001b[0m\u001b[92m●\u001b[0m\u001b[92m●\u001b[0m\u001b[0m \u001b[92m●\u001b[0m\u001b[92m●\u001b[0m\u001b[92m●\u001b[0m \u001b[0m│\n",
            "\u001b[0m│ \u001b[92m●\u001b[0m\u001b[92m●\u001b[0m\u001b[92m●\u001b[0m\u001b[0m \u001b[92m●\u001b[0m\u001b[92m●\u001b[0m\u001b[92m●\u001b[0m \u001b[0m│\n",
            "\u001b[0m│ \u001b[92m●\u001b[0m\u001b[92m●\u001b[0m\u001b[92m●\u001b[0m\u001b[0m \u001b[92m●\u001b[0m\u001b[92m●\u001b[0m\u001b[92m●\u001b[0m \u001b[0m│\n",
            "\u001b[0m│ \u001b[92m●\u001b[0m\u001b[92m●\u001b[0m\u001b[92m●\u001b[0m\u001b[0m \u001b[92m●\u001b[0m\u001b[92m●\u001b[0m\u001b[92m●\u001b[0m \u001b[0m│\n",
            "\u001b[0m│ \u001b[92m●\u001b[0m\u001b[92m●\u001b[0m\u001b[92m●\u001b[0m\u001b[0m \u001b[92m●\u001b[0m\u001b[92m●\u001b[0m\u001b[92m●\u001b[0m \u001b[0m│\n",
            "\u001b[0m│ \u001b[92m●\u001b[0m\u001b[92m●\u001b[0m\u001b[92m●\u001b[0m\u001b[0m \u001b[92m●\u001b[0m\u001b[92m●\u001b[0m\u001b[92m●\u001b[0m \u001b[0m│\n",
            "\u001b[0m│ \u001b[92m●\u001b[0m\u001b[92m●\u001b[0m\u001b[92m●\u001b[0m\u001b[0m \u001b[92m●\u001b[0m\u001b[92m●\u001b[0m\u001b[92m●\u001b[0m \u001b[0m│\n",
            "\u001b[0m│ \u001b[92m●\u001b[0m\u001b[92m●\u001b[0m\u001b[92m●\u001b[0m\u001b[0m \u001b[92m●\u001b[0m\u001b[92m●\u001b[0m\u001b[92m●\u001b[0m \u001b[0m│\n",
            "\u001b[0m│ \u001b[92m●\u001b[0m\u001b[92m●\u001b[0m\u001b[92m●\u001b[0m\u001b[0m \u001b[92m●\u001b[0m\u001b[92m●\u001b[0m\u001b[92m●\u001b[0m \u001b[0m│\n",
            "\u001b[0m│ \u001b[92m●\u001b[0m\u001b[92m●\u001b[0m\u001b[92m●\u001b[0m\u001b[0m \u001b[92m●\u001b[0m\u001b[92m●\u001b[0m\u001b[92m●\u001b[0m \u001b[0m│\n",
            "\u001b[0m│ \u001b[92m●\u001b[0m\u001b[92m●\u001b[0m\u001b[92m●\u001b[0m\u001b[0m \u001b[92m●\u001b[0m\u001b[92m●\u001b[0m\u001b[92m●\u001b[0m \u001b[0m│\n",
            "\u001b[0m└─────────┘\u001b[0m\n"
          ]
        }
      ],
      "source": [
        "# Inicializar la matriz del avión con '0' (para representar los asientos) y con '|' para el pasillo\n",
        "avion = [['0' for _ in range(numColumnas * asientosPorColumna + 1)] for _ in range(numFilas + 1)]\n",
        "for i in range(numFilas + 1):\n",
        "    avion[i][asientosPorColumna] = '|'\n",
        "\n",
        "# La primera fila se llena con espacios para simular la ausencia de asientos\n",
        "avion[0] = [' ' for _ in range(numColumnas * asientosPorColumna + 1)]\n",
        "\n",
        "\n",
        "imprimir_avion(avion)\n"
      ]
    },
    {
      "cell_type": "markdown",
      "metadata": {
        "id": "EJMVsIx8gTJU"
      },
      "source": [
        "**Modelo**\n",
        "\n",
        "Supongo que la estrategia de embarque en este caso es la random, porque se han asignado asientos aleatorios a cada pasajero y no se sigue ningún orden\n",
        "Habría que definir como parámetro el fondo de cada casilla del layout del avión. Las casillas representan el asiento + espacio para las piernas. Además, habría que definir una distancia diferente para los movimientos laterales una vez el pasajero ys se está desplazando dentro de la propia fila. Además, habría que controlar el tiempo de acceso al asiento en función de si la fila ya está ocupada.\n",
        "\n",
        "Por otro lado, hay que tener en cuenta los tiempos añadidos de espera cuando existen pasajeros más lentos delante de otros más rápidos y están \"obstaculizando\" el paso, retrasando la llegada al asiento asignado."
      ]
    },
    {
      "cell_type": "markdown",
      "source": [
        "## Métodos de embarque"
      ],
      "metadata": {
        "id": "gqpOR6GOiuEq"
      }
    },
    {
      "cell_type": "markdown",
      "metadata": {
        "id": "IiXfb7bKq8Zr"
      },
      "source": [
        "### **Método Aleatorio**"
      ]
    },
    {
      "cell_type": "code",
      "execution_count": null,
      "metadata": {
        "id": "5RcZoE8FrCbQ",
        "colab": {
          "base_uri": "https://localhost:8080/"
        },
        "outputId": "4400d063-cc6b-4f93-c5e2-2b1bbdfcd9cb"
      },
      "outputs": [
        {
          "output_type": "stream",
          "name": "stdout",
          "text": [
            "La media de los tiempos es: 49 minutos y 42 segundos\n"
          ]
        }
      ],
      "source": [
        "tiempos_embarque = []\n",
        "\n",
        "for semilla in range(500):\n",
        "\n",
        "    np.random.seed(semilla)  # semilla para las distribuciones aleatorias\n",
        "\n",
        "    # Inicializar la matriz para rastrear los asientos asignados\n",
        "    asientosAsignados = np.zeros((numFilas, numColumnas * asientosPorColumna))\n",
        "\n",
        "    # Lista para almacenar los objetos Pasajero\n",
        "    pasajeros = []\n",
        "\n",
        "    # Generar un orden aleatorio de las posiciones\n",
        "    posiciones_random = np.random.choice(np.arange(1, numPasajeros + 1), numPasajeros, replace=False)\n",
        "\n",
        "    # Iterar sobre los pasajeros\n",
        "    for i, num in enumerate(posiciones_random, start=1):\n",
        "        # Generar tiempo de llegada\n",
        "        entrada = num\n",
        "        # Obtener un asiento no asignado\n",
        "        asiento = obtenerAsiento(asientosAsignados)\n",
        "        if asiento is not None:\n",
        "            fila, columna = asiento\n",
        "\n",
        "            velocidad = np.random.normal(1.2, 0.2)\n",
        "            equipaje = np.random.randint(0, 3)\n",
        "\n",
        "            # Marcar el asiento como asignado\n",
        "            asientosAsignados[fila, columna] = 1\n",
        "\n",
        "            # Crear el objeto Pasajero y almacenarlo en la lista\n",
        "            pasajeros.append(Pasajero(entrada, asiento, velocidad, equipaje))\n",
        "\n",
        "    # Simulación del llenado del avión\n",
        "    tiempo_embarque = llenar_avion()\n",
        "    tiempos_embarque.append(tiempo_embarque)\n",
        "\n",
        "# Convertir los tiempos a segundos\n",
        "tiempos_segundos = [tiempo[0] * 60 + tiempo[1] for tiempo in tiempos_embarque]\n",
        "\n",
        "# Calcular la media de los tiempos en segundos\n",
        "media_tiempo_segundos = np.mean(tiempos_segundos)\n",
        "tiempos.append(media_tiempo_segundos)\n",
        "\n",
        "# Convertir la media de vuelta a minutos y segundos\n",
        "media_minutos = int(media_tiempo_segundos / 60)\n",
        "media_segundos = int(media_tiempo_segundos % 60)\n",
        "\n",
        "# Imprimir la media de los tiempos\n",
        "print(f\"La media de los tiempos es: {media_minutos} minutos y {media_segundos} segundos\")\n"
      ]
    },
    {
      "cell_type": "markdown",
      "metadata": {
        "id": "eWoGGJiFR--X"
      },
      "source": [
        "### **Método Rotating Zone**"
      ]
    },
    {
      "cell_type": "code",
      "execution_count": null,
      "metadata": {
        "id": "GCpiEYpbR660",
        "colab": {
          "base_uri": "https://localhost:8080/"
        },
        "outputId": "9a947e6a-edd6-4ffb-8634-74e51ffd9f95"
      },
      "outputs": [
        {
          "output_type": "stream",
          "name": "stdout",
          "text": [
            "La media de los tiempos es: 49 minutos y 39 segundos\n"
          ]
        }
      ],
      "source": [
        "tiempos_embarque = []\n",
        "\n",
        "for i in range(500):\n",
        "    # Inicializar la matriz para rastrear los asientos asignados\n",
        "    asientosAsignados = np.zeros((numFilas, numColumnas * asientosPorColumna))\n",
        "\n",
        "    # Lista para almacenar los objetos Pasajero\n",
        "    pasajeros = []\n",
        "    # Definir el orden de asignación de filas según Rotating Zone\n",
        "    zonas_rotating_zone = [\"Primera\", \"Última\", \"Segunda\", \"Tercera\"]\n",
        "\n",
        "    # Iterar sobre las zonas en el orden Rotating Zone\n",
        "    for zona in zonas_rotating_zone:\n",
        "        filas_zona = []\n",
        "        if zona == \"Primera\":\n",
        "            filas_zona = range(0, 7)  # Filas de la primera zona\n",
        "        elif zona == \"Última\":\n",
        "            filas_zona = range(21, 28)  # Filas de la última zona\n",
        "        elif zona == \"Segunda\":\n",
        "            filas_zona = range(7, 14)  # Filas de la segunda zona\n",
        "        elif zona == \"Tercera\":\n",
        "            filas_zona = range(14, 21)  # Filas de la tercera zona\n",
        "\n",
        "        # Obtener asientos disponibles en la zona\n",
        "        asientos_disponibles = []\n",
        "        for fila in filas_zona:\n",
        "            asientos_disponibles.extend([(fila, col) for col in range(numColumnas * asientosPorColumna) if asientosAsignados[fila, col] == 0])\n",
        "\n",
        "        # Mezclar los asientos disponibles de forma aleatoria\n",
        "        np.random.shuffle(asientos_disponibles)\n",
        "\n",
        "        # Asignar asientos a los pasajeros en la zona\n",
        "        for i in range(len(asientos_disponibles[:numPasajeros])):\n",
        "            fila, columna = asientos_disponibles[i]\n",
        "            asientosAsignados[fila, columna] = 1\n",
        "            asiento = (fila, columna)\n",
        "            entrada = len(pasajeros) + 1  # Contador de pasajeros\n",
        "            velocidad = np.random.normal(1.2, 0.2)\n",
        "            equipaje = np.random.randint(0, 3)\n",
        "            pasajeros.append(Pasajero(entrada, asiento, velocidad, equipaje))\n",
        "\n",
        "    # Simulación del llenado del avión\n",
        "    tiempo_embarque = llenar_avion()\n",
        "    tiempos_embarque.append(tiempo_embarque)\n",
        "\n",
        "# Convertir los tiempos a segundos\n",
        "tiempos_segundos = [tiempo[0] * 60 + tiempo[1] for tiempo in tiempos_embarque]\n",
        "\n",
        "# Calcular la media de los tiempos en segundos\n",
        "media_tiempo_segundos = np.mean(tiempos_segundos)\n",
        "tiempos.append(media_tiempo_segundos)\n",
        "\n",
        "# Convertir la media de vuelta a minutos y segundos\n",
        "media_minutos = int(media_tiempo_segundos / 60)\n",
        "media_segundos = int(media_tiempo_segundos % 60)\n",
        "\n",
        "# Imprimir la media de los tiempos\n",
        "print(f\"La media de los tiempos es: {media_minutos} minutos y {media_segundos} segundos\")\n"
      ]
    },
    {
      "cell_type": "markdown",
      "metadata": {
        "id": "vgHKARLIKvIB"
      },
      "source": [
        "### **Método Back To Front**"
      ]
    },
    {
      "cell_type": "code",
      "execution_count": null,
      "metadata": {
        "id": "AbDcd2seKudH",
        "colab": {
          "base_uri": "https://localhost:8080/"
        },
        "outputId": "432d164f-7bbc-447b-f043-5811e43770e0"
      },
      "outputs": [
        {
          "output_type": "stream",
          "name": "stdout",
          "text": [
            "La media de los tiempos es: 49 minutos y 41 segundos\n"
          ]
        }
      ],
      "source": [
        "tiempos_embarque = []\n",
        "\n",
        "for i in range(500):\n",
        "    # Inicializar la matriz para rastrear los asientos asignados\n",
        "    asientosAsignados = np.zeros((numFilas, numColumnas * asientosPorColumna))\n",
        "\n",
        "    # Lista para almacenar los objetos Pasajero\n",
        "    pasajeros = []\n",
        "    # Definir el orden de asignación de filas según Back To Front\n",
        "    zonas_rotating_zone = [\"Última\", \"Tercera\", \"Segunda\", \"Primera\"]\n",
        "\n",
        "    # Iterar sobre las zonas en el orden Back To Front\n",
        "    for zona in zonas_rotating_zone:\n",
        "        filas_zona = []\n",
        "        if zona == \"Primera\":\n",
        "            filas_zona = range(0, 7)  # Filas de la primera zona\n",
        "        elif zona == \"Última\":\n",
        "            filas_zona = range(21, 28)  # Filas de la última zona\n",
        "        elif zona == \"Segunda\":\n",
        "            filas_zona = range(7, 14)  # Filas de la segunda zona\n",
        "        elif zona == \"Tercera\":\n",
        "            filas_zona = range(14, 21)  # Filas de la tercera zona\n",
        "\n",
        "        # Obtener asientos disponibles en la zona\n",
        "        asientos_disponibles = []\n",
        "        for fila in filas_zona:\n",
        "            asientos_disponibles.extend([(fila, col) for col in range(numColumnas * asientosPorColumna) if asientosAsignados[fila, col] == 0])\n",
        "\n",
        "        # Mezclar los asientos disponibles de forma aleatoria\n",
        "        np.random.shuffle(asientos_disponibles)\n",
        "\n",
        "        # Asignar asientos a los pasajeros en la zona\n",
        "        for i in range(len(asientos_disponibles[:numPasajeros])):\n",
        "            fila, columna = asientos_disponibles[i]\n",
        "            asientosAsignados[fila, columna] = 1\n",
        "            asiento = (fila, columna)\n",
        "            entrada = len(pasajeros) + 1  # Contador de pasajeros\n",
        "            velocidad = np.random.normal(1.2, 0.2)\n",
        "            equipaje = np.random.randint(0, 3)\n",
        "            pasajeros.append(Pasajero(entrada, asiento, velocidad, equipaje))\n",
        "\n",
        "    # Simulación del llenado del avión\n",
        "    tiempo_embarque = llenar_avion()\n",
        "    tiempos_embarque.append(tiempo_embarque)\n",
        "\n",
        "# Convertir los tiempos a segundos\n",
        "tiempos_segundos = [tiempo[0] * 60 + tiempo[1] for tiempo in tiempos_embarque]\n",
        "\n",
        "# Calcular la media de los tiempos en segundos\n",
        "media_tiempo_segundos = np.mean(tiempos_segundos)\n",
        "tiempos.append(media_tiempo_segundos)\n",
        "\n",
        "# Convertir la media de vuelta a minutos y segundos\n",
        "media_minutos = int(media_tiempo_segundos / 60)\n",
        "media_segundos = int(media_tiempo_segundos % 60)\n",
        "\n",
        "# Imprimir la media de los tiempos\n",
        "print(f\"La media de los tiempos es: {media_minutos} minutos y {media_segundos} segundos\")\n",
        "\n"
      ]
    },
    {
      "cell_type": "markdown",
      "metadata": {
        "id": "QgpSqburU0tE"
      },
      "source": [
        "### **Método Outside In**"
      ]
    },
    {
      "cell_type": "code",
      "source": [
        "# Ejecutar la simulación 500 veces y almacenar los tiempos\n",
        "tiempos_embarque = []\n",
        "for _ in range(500):\n",
        "    # BLOQUE 1 : ASIGNAR ASIENTOS Y BILLETES\n",
        "\n",
        "    # Inicializar la matriz para rastrear los asientos asignados\n",
        "    asientosAsignados = np.zeros((numFilas, numColumnas * asientosPorColumna))\n",
        "\n",
        "    # Lista para almacenar los objetos Pasajero\n",
        "    pasajeros = []\n",
        "    # Definir el orden de asignación de columnas según Rotating Zone\n",
        "    zonas_rotating_zone = [\"Ventana\", \"Medio\", \"Pasillo\"]\n",
        "\n",
        "    # Iterar sobre las zonas en el orden Rotating Zone\n",
        "    for zona in zonas_rotating_zone:\n",
        "        columnas_zona = []\n",
        "        if zona == \"Ventana\":\n",
        "            columnas_zona = [0,5]  # Filas de la primera zona\n",
        "        elif zona == \"Medio\":\n",
        "            columnas_zona = [1,4]  # Filas de la última zona\n",
        "        elif zona == \"Pasillo\":\n",
        "            columnas_zona = [2,3]  # Filas de la segunda zona\n",
        "\n",
        "        # Obtener asientos disponibles en la zona\n",
        "        asientos_disponibles = []\n",
        "        for fila in range(numFilas):\n",
        "            for columna in columnas_zona:\n",
        "                if asientosAsignados[fila, columna] == 0:\n",
        "                    asientos_disponibles.append((fila, columna))\n",
        "\n",
        "        # Mezclar los asientos disponibles de forma aleatoria\n",
        "        np.random.shuffle(asientos_disponibles)\n",
        "\n",
        "        # Asignar asientos a los pasajeros en la zona\n",
        "        for i in range(len(asientos_disponibles[:numPasajeros])):\n",
        "            fila, columna = asientos_disponibles[i]\n",
        "            asientosAsignados[fila, columna] = 1\n",
        "            asiento = (fila, columna)\n",
        "            entrada = len(pasajeros) + 1  # Contador de pasajeros\n",
        "            velocidad = np.random.normal(1.2, 0.2)\n",
        "            equipaje = np.random.randint(0, 3)\n",
        "            pasajeros.append(Pasajero(entrada, asiento, velocidad, equipaje))\n",
        "\n",
        "    # Simulación del llenado del avión\n",
        "    tiempo_embarque = llenar_avion()\n",
        "    tiempos_embarque.append(tiempo_embarque)\n",
        "\n",
        "# Convertir los tiempos a segundos\n",
        "tiempos_segundos = [tiempo[0] * 60 + tiempo[1] for tiempo in tiempos_embarque]\n",
        "\n",
        "# Calcular la media de los tiempos en segundos\n",
        "media_tiempo_segundos = np.mean(tiempos_segundos)\n",
        "tiempos.append(media_tiempo_segundos)\n",
        "\n",
        "# Convertir la media de vuelta a minutos y segundos\n",
        "media_minutos = int(media_tiempo_segundos / 60)\n",
        "media_segundos = int(media_tiempo_segundos % 60)\n",
        "\n",
        "# Imprimir la media de los tiempos\n",
        "print(f\"La media de los tiempos es: {media_minutos} minutos y {media_segundos} segundos\")"
      ],
      "metadata": {
        "id": "68twzJbWOhRZ",
        "colab": {
          "base_uri": "https://localhost:8080/"
        },
        "outputId": "1a8c57c1-f8bf-4eef-aa06-40e9c890a2f8"
      },
      "execution_count": null,
      "outputs": [
        {
          "output_type": "stream",
          "name": "stdout",
          "text": [
            "La media de los tiempos es: 42 minutos y 29 segundos\n"
          ]
        }
      ]
    },
    {
      "cell_type": "markdown",
      "metadata": {
        "id": "DlNCLebYpwCx"
      },
      "source": [
        "### **Método Reverse Pyramid**"
      ]
    },
    {
      "cell_type": "code",
      "execution_count": null,
      "metadata": {
        "id": "rfcNLrgHqj5X",
        "colab": {
          "base_uri": "https://localhost:8080/"
        },
        "outputId": "fe1db380-34ee-4160-b513-54efd8f2d3ed"
      },
      "outputs": [
        {
          "output_type": "stream",
          "name": "stdout",
          "text": [
            "La media de los tiempos es: 42 minutos y 37 segundos\n"
          ]
        }
      ],
      "source": [
        "tiempos_embarque = []\n",
        "\n",
        "for semilla in range(500):\n",
        "\n",
        "    np.random.seed(semilla)  # semilla para las distribuciones aleatorias\n",
        "\n",
        "    # Inicializar la matriz para rastrear los asientos asignados\n",
        "    asientosAsignados = np.zeros((numFilas, numColumnas * asientosPorColumna))\n",
        "\n",
        "    # Lista para almacenar los objetos Pasajero\n",
        "    pasajeros = []\n",
        "\n",
        "    # Generar un orden aleatorio de las posiciones\n",
        "    posiciones_random = np.random.choice(np.arange(1, numPasajeros + 1), numPasajeros, replace=False)\n",
        "\n",
        "    # Iterar sobre los pasajeros\n",
        "    for i, num in enumerate(posiciones_random, start=1):\n",
        "        # Generar tiempo de llegada\n",
        "        entrada = num\n",
        "        # Obtener un asiento no asignado\n",
        "        asiento = obtenerAsiento(asientosAsignados)\n",
        "        if asiento is not None:\n",
        "            fila, columna = asiento\n",
        "\n",
        "            velocidad = np.random.normal(1.2, 0.2)\n",
        "            equipaje = np.random.randint(0, 3)\n",
        "\n",
        "            # Marcar el asiento como asignado\n",
        "            asientosAsignados[fila, columna] = 1\n",
        "\n",
        "            # Crear el objeto Pasajero y almacenarlo en la lista\n",
        "            pasajeros.append(Pasajero(entrada, asiento, velocidad, equipaje))\n",
        "\n",
        "    cont = []\n",
        "    i = 0\n",
        "    index = []\n",
        "\n",
        "    # Los puntos de corte están al 20%, 40% y 70%\n",
        "    limites = [0.2, 0.4, 0.7]\n",
        "    limites = [round(numFilas * limite) for limite in limites]\n",
        "\n",
        "    # Bloque 1\n",
        "    # Contar la cantidad de pasajeros que cumplen con el criterio\n",
        "    cont.append(0)\n",
        "    ind = []\n",
        "    for indice, pasajero in enumerate(pasajeros):\n",
        "        fila, columna = pasajero.asiento\n",
        "        if fila >= limites[1] and (columna == 0 or columna == 5):\n",
        "            cont[i] += 1\n",
        "            ind.append(indice)\n",
        "    index.append(ind)\n",
        "\n",
        "    # Bloque 2\n",
        "    i += 1\n",
        "    cont.append(0)\n",
        "    ind = []\n",
        "    for indice, pasajero in enumerate(pasajeros):\n",
        "        fila, columna = pasajero.asiento\n",
        "        if (fila in range(limites[0]-1, limites[1]) and (columna == 0 or columna == 5)) or (fila >= limites[2] and (columna == 1 or columna == 4)):\n",
        "            cont[i] += 1\n",
        "            ind.append(indice)\n",
        "    index.append(ind)\n",
        "\n",
        "    # Bloque 3\n",
        "    i += 1\n",
        "    cont.append(0)\n",
        "    ind = []\n",
        "    for indice, pasajero in enumerate(pasajeros):\n",
        "        fila, columna = pasajero.asiento\n",
        "        if (fila < limites[0]-1 and (columna == 0 or columna == 5)) or (fila in range(limites[0]-1, limites[2]) and (columna == 1 or columna == 4)):\n",
        "            cont[i] += 1\n",
        "            ind.append(indice)\n",
        "    index.append(ind)\n",
        "\n",
        "    # Bloque 4\n",
        "    i += 1\n",
        "    cont.append(0)\n",
        "    ind = []\n",
        "    for indice, pasajero in enumerate(pasajeros):\n",
        "        fila, columna = pasajero.asiento\n",
        "        if (fila < limites[0]-1 and (columna == 1 or columna == 4)) or (fila >= limites[2]-1 and (columna == 2 or columna == 3)):\n",
        "            cont[i] += 1\n",
        "            ind.append(indice)\n",
        "    index.append(ind)\n",
        "\n",
        "    # Bloque 5\n",
        "    i += 1\n",
        "    cont.append(0)\n",
        "    ind = []\n",
        "    for indice, pasajero in enumerate(pasajeros):\n",
        "        fila, columna = pasajero.asiento\n",
        "        if fila < limites[2]-1 and (columna == 2 or columna == 3):\n",
        "            cont[i] += 1\n",
        "            ind.append(indice)\n",
        "    index.append(ind)\n",
        "\n",
        "    inicio = 1\n",
        "    limite = 0\n",
        "    for i in range(len(cont)):\n",
        "      limite += cont[i]\n",
        "      posiciones_random = np.random.choice(np.arange(inicio, limite+1), cont[i], replace=False)\n",
        "      j = 0\n",
        "      for indice in index[i]:\n",
        "        num = posiciones_random[j]\n",
        "        pasajeros[indice].entrada = num\n",
        "        j += 1\n",
        "      inicio += cont[i]\n",
        "\n",
        "    # Simulación del llenado del avión\n",
        "    tiempo_embarque = llenar_avion()\n",
        "    tiempos_embarque.append(tiempo_embarque)\n",
        "\n",
        "# Convertir los tiempos a segundos\n",
        "tiempos_segundos = [tiempo[0] * 60 + tiempo[1] for tiempo in tiempos_embarque]\n",
        "\n",
        "# Calcular la media de los tiempos en segundos\n",
        "media_tiempo_segundos = np.mean(tiempos_segundos)\n",
        "tiempos.append(media_tiempo_segundos)\n",
        "\n",
        "# Convertir la media de vuelta a minutos y segundos\n",
        "media_minutos = int(media_tiempo_segundos / 60)\n",
        "media_segundos = int(media_tiempo_segundos % 60)\n",
        "\n",
        "# Imprimir la media de los tiempos\n",
        "print(f\"La media de los tiempos es: {media_minutos} minutos y {media_segundos} segundos\")\n"
      ]
    },
    {
      "cell_type": "markdown",
      "source": [
        "## Comparación gráfica final"
      ],
      "metadata": {
        "id": "_MBSsvIJ9kye"
      }
    },
    {
      "cell_type": "code",
      "source": [
        "print(tiempos)"
      ],
      "metadata": {
        "id": "d2c5pYWmA63o",
        "colab": {
          "base_uri": "https://localhost:8080/"
        },
        "outputId": "8b271d0f-12a1-410e-d800-94f8346da2cd"
      },
      "execution_count": null,
      "outputs": [
        {
          "output_type": "stream",
          "name": "stdout",
          "text": [
            "[2982.578, 2979.726, 2981.128, 2549.178, 2557.79]\n"
          ]
        }
      ]
    },
    {
      "cell_type": "code",
      "source": [
        "nombres = ['Random', 'Rotating Zone', 'Back To Front', 'Outside In', 'Reverse Pyramid']\n",
        "lista_dividida = [x / 60 for x in tiempos]\n",
        "\n",
        "plt.figure(figsize=(7, 4))\n",
        "plt.bar(nombres, lista_dividida, alpha=0.9, width=0.5, color='#4D5F81')\n",
        "\n",
        "# Añadir etiquetas y título\n",
        "plt.xlabel('Estrategias de embarque')\n",
        "plt.ylabel('Tiempo (minutos)')\n",
        "plt.title('Tiempo medio de embarque')\n",
        "plt.ylim(0, 60)\n",
        "\n",
        "# Mostrar el histograma\n",
        "plt.show()"
      ],
      "metadata": {
        "id": "SHnkoYGJ9oRb",
        "colab": {
          "base_uri": "https://localhost:8080/",
          "height": 410
        },
        "outputId": "e7834f3b-094d-45ee-ab96-c213c65beddf"
      },
      "execution_count": null,
      "outputs": [
        {
          "output_type": "display_data",
          "data": {
            "text/plain": [
              "<Figure size 700x400 with 1 Axes>"
            ],
            "image/png": "[encoded data removed]"
          },
          "metadata": {}
        }
      ]
    }
  ],
  "metadata": {
    "colab": {
      "provenance": [],
      "toc_visible": true
    },
    "kernelspec": {
      "display_name": "Python 3",
      "name": "python3"
    },
    "language_info": {
      "name": "python"
    }
  },
  "nbformat": 4,
  "nbformat_minor": 0
}